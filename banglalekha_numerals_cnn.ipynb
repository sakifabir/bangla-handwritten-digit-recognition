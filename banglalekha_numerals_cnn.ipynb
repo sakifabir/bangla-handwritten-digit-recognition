{
 "cells": [
  {
   "cell_type": "code",
   "execution_count": 1,
   "metadata": {},
   "outputs": [
    {
     "name": "stderr",
     "output_type": "stream",
     "text": [
      "/Users/mnpappo/anaconda2/lib/python2.7/site-packages/h5py/__init__.py:34: FutureWarning: Conversion of the second argument of issubdtype from `float` to `np.floating` is deprecated. In future, it will be treated as `np.float64 == np.dtype(float).type`.\n",
      "  from ._conv import register_converters as _register_converters\n",
      "Using TensorFlow backend.\n"
     ]
    }
   ],
   "source": [
    "from __future__ import print_function\n",
    "import keras\n",
    "from keras.datasets import mnist\n",
    "from keras.models import Sequential, Model\n",
    "from keras.layers import Dense, Dropout, Flatten, Activation, Input\n",
    "from keras.layers import Conv2D, MaxPooling2D\n",
    "from keras import backend as K\n",
    "import numpy as np\n",
    "import gzip,cPickle,sys\n",
    "from matplotlib.pyplot import imshow\n",
    "from keras.preprocessing.image import ImageDataGenerator\n",
    "\n",
    "np.random.seed(1337)\n",
    "%matplotlib inline"
   ]
  },
  {
   "cell_type": "code",
   "execution_count": 2,
   "metadata": {
    "collapsed": true
   },
   "outputs": [],
   "source": [
    "batch_size = 32\n",
    "num_classes = 10\n",
    "epochs = 100\n",
    "img_width, img_height = 28, 28"
   ]
  },
  {
   "cell_type": "code",
   "execution_count": 3,
   "metadata": {
    "collapsed": true
   },
   "outputs": [],
   "source": [
    "train_data_dir = 'data/train/bn_numerals'\n",
    "validation_data_dir = 'data/validation/bn_numerals'\n",
    "nb_train_samples = 1560\n",
    "nb_validation_samples = 390"
   ]
  },
  {
   "cell_type": "code",
   "execution_count": 4,
   "metadata": {
    "collapsed": true
   },
   "outputs": [],
   "source": [
    "if K.image_data_format() == 'channels_first':\n",
    "    input_shape = (1, img_width, img_height)\n",
    "else:\n",
    "    input_shape = (img_width, img_height, 1)"
   ]
  },
  {
   "cell_type": "code",
   "execution_count": 5,
   "metadata": {
    "collapsed": true
   },
   "outputs": [],
   "source": [
    "img_input = Input(shape=input_shape)\n",
    "\n",
    "# Conv Block 1\n",
    "x = Conv2D(16, (3, 3), activation='relu', padding='same', name='block1_conv1')(img_input)\n",
    "x = Conv2D(32, (3, 3), activation='relu', padding='same', name='block1_conv2')(x)\n",
    "x = MaxPooling2D((2, 2), strides=(2, 2), name='block1_pool')(x)\n",
    "\n",
    "# Conv Block 2\n",
    "x = Conv2D(32, (3, 3), activation='relu', padding='same', name='block2_conv1')(x)\n",
    "x = Conv2D(64, (3, 3), activation='relu', padding='same', name='block2_conv2')(x)\n",
    "x = MaxPooling2D((2, 2), strides=(2, 2), name='block2_pool')(x)\n",
    "\n",
    "# Classification block\n",
    "x = Flatten(name='flatten')(x)\n",
    "x = Dense(32, activation='relu', name='fc')(x)\n",
    "x = Dense(num_classes, activation='softmax', name='predictions')(x)\n",
    "\n",
    "model = Model(img_input, x)"
   ]
  },
  {
   "cell_type": "code",
   "execution_count": 6,
   "metadata": {},
   "outputs": [
    {
     "name": "stdout",
     "output_type": "stream",
     "text": [
      "_________________________________________________________________\n",
      "Layer (type)                 Output Shape              Param #   \n",
      "=================================================================\n",
      "input_1 (InputLayer)         (None, 28, 28, 1)         0         \n",
      "_________________________________________________________________\n",
      "block1_conv1 (Conv2D)        (None, 28, 28, 16)        160       \n",
      "_________________________________________________________________\n",
      "block1_conv2 (Conv2D)        (None, 28, 28, 32)        4640      \n",
      "_________________________________________________________________\n",
      "block1_pool (MaxPooling2D)   (None, 14, 14, 32)        0         \n",
      "_________________________________________________________________\n",
      "block2_conv1 (Conv2D)        (None, 14, 14, 32)        9248      \n",
      "_________________________________________________________________\n",
      "block2_conv2 (Conv2D)        (None, 14, 14, 64)        18496     \n",
      "_________________________________________________________________\n",
      "block2_pool (MaxPooling2D)   (None, 7, 7, 64)          0         \n",
      "_________________________________________________________________\n",
      "flatten (Flatten)            (None, 3136)              0         \n",
      "_________________________________________________________________\n",
      "fc (Dense)                   (None, 32)                100384    \n",
      "_________________________________________________________________\n",
      "predictions (Dense)          (None, 10)                330       \n",
      "=================================================================\n",
      "Total params: 133,258\n",
      "Trainable params: 133,258\n",
      "Non-trainable params: 0\n",
      "_________________________________________________________________\n"
     ]
    }
   ],
   "source": [
    "model.compile(loss='categorical_crossentropy', optimizer='adam', metrics=['accuracy'])\n",
    "model.summary()"
   ]
  },
  {
   "cell_type": "code",
   "execution_count": 7,
   "metadata": {
    "collapsed": true
   },
   "outputs": [],
   "source": [
    "# this is the augmentation configuration we will use for training\n",
    "train_datagen = ImageDataGenerator(\n",
    "    rescale=1./255,\n",
    "    rotation_range=0.5,\n",
    "    width_shift_range=0.2,\n",
    "    height_shift_range=0.2\n",
    ")"
   ]
  },
  {
   "cell_type": "code",
   "execution_count": 8,
   "metadata": {
    "collapsed": true
   },
   "outputs": [],
   "source": [
    "# only rescaling\n",
    "test_datagen = ImageDataGenerator(rescale=1./ 255)"
   ]
  },
  {
   "cell_type": "code",
   "execution_count": 9,
   "metadata": {},
   "outputs": [
    {
     "name": "stdout",
     "output_type": "stream",
     "text": [
      "Found 15600 images belonging to 10 classes.\n",
      "Found 4148 images belonging to 10 classes.\n"
     ]
    }
   ],
   "source": [
    "train_generator = train_datagen.flow_from_directory(\n",
    "    train_data_dir,\n",
    "    target_size=(img_width, img_height),\n",
    "    color_mode = \"grayscale\",\n",
    "    shuffle = True,\n",
    "    batch_size=batch_size,\n",
    "    class_mode='categorical')\n",
    "\n",
    "validation_generator = test_datagen.flow_from_directory(\n",
    "    validation_data_dir,\n",
    "    target_size=(img_width, img_height),\n",
    "    color_mode = \"grayscale\",\n",
    "    shuffle = True,\n",
    "    batch_size=batch_size,\n",
    "    class_mode='categorical')"
   ]
  },
  {
   "cell_type": "code",
   "execution_count": 10,
   "metadata": {
    "collapsed": true
   },
   "outputs": [],
   "source": [
    "#tb = keras.callbacks.TensorBoard(log_dir='./logs', histogram_freq=0, write_graph=True, write_images=True, embeddings_freq=0, embeddings_layer_names=None, embeddings_metadata=None)"
   ]
  },
  {
   "cell_type": "code",
   "execution_count": 11,
   "metadata": {},
   "outputs": [
    {
     "name": "stdout",
     "output_type": "stream",
     "text": [
      "Epoch 1/100\n",
      "48/48 [==============================] - 6s 134ms/step - loss: 1.8279 - acc: 0.3568 - val_loss: 0.9017 - val_acc: 0.7396\n",
      "Epoch 2/100\n",
      "48/48 [==============================] - 5s 108ms/step - loss: 1.0835 - acc: 0.6341 - val_loss: 0.4724 - val_acc: 0.8438\n",
      "Epoch 3/100\n",
      "48/48 [==============================] - 5s 114ms/step - loss: 0.7791 - acc: 0.7428 - val_loss: 0.4314 - val_acc: 0.8516\n",
      "Epoch 4/100\n",
      "48/48 [==============================] - 6s 126ms/step - loss: 0.6977 - acc: 0.7689 - val_loss: 0.4077 - val_acc: 0.8620\n",
      "Epoch 5/100\n",
      "48/48 [==============================] - 6s 124ms/step - loss: 0.6579 - acc: 0.7943 - val_loss: 0.3206 - val_acc: 0.8932\n",
      "Epoch 6/100\n",
      "48/48 [==============================] - 6s 123ms/step - loss: 0.5542 - acc: 0.8125 - val_loss: 0.4017 - val_acc: 0.8542\n",
      "Epoch 7/100\n",
      "48/48 [==============================] - 6s 117ms/step - loss: 0.5217 - acc: 0.8288 - val_loss: 0.3547 - val_acc: 0.8984\n",
      "Epoch 8/100\n",
      "48/48 [==============================] - 6s 123ms/step - loss: 0.4599 - acc: 0.8503 - val_loss: 0.2311 - val_acc: 0.9427\n",
      "Epoch 9/100\n",
      "48/48 [==============================] - 6s 119ms/step - loss: 0.4250 - acc: 0.8691 - val_loss: 0.2447 - val_acc: 0.9271\n",
      "Epoch 10/100\n",
      "48/48 [==============================] - 6s 122ms/step - loss: 0.4376 - acc: 0.8607 - val_loss: 0.2445 - val_acc: 0.9349\n",
      "Epoch 11/100\n",
      "48/48 [==============================] - 6s 118ms/step - loss: 0.4130 - acc: 0.8757 - val_loss: 0.1803 - val_acc: 0.9328\n",
      "Epoch 12/100\n",
      "48/48 [==============================] - 6s 119ms/step - loss: 0.4244 - acc: 0.8711 - val_loss: 0.2709 - val_acc: 0.9219\n",
      "Epoch 13/100\n",
      "48/48 [==============================] - 6s 121ms/step - loss: 0.4452 - acc: 0.8555 - val_loss: 0.2545 - val_acc: 0.9245\n",
      "Epoch 14/100\n",
      "48/48 [==============================] - 6s 124ms/step - loss: 0.3297 - acc: 0.8828 - val_loss: 0.1820 - val_acc: 0.9479\n",
      "Epoch 15/100\n",
      "48/48 [==============================] - 6s 122ms/step - loss: 0.3771 - acc: 0.8796 - val_loss: 0.1847 - val_acc: 0.9427\n",
      "Epoch 16/100\n",
      "48/48 [==============================] - 6s 121ms/step - loss: 0.3279 - acc: 0.8997 - val_loss: 0.2747 - val_acc: 0.9089\n",
      "Epoch 17/100\n",
      "48/48 [==============================] - 6s 117ms/step - loss: 0.3573 - acc: 0.8867 - val_loss: 0.2670 - val_acc: 0.9193\n",
      "Epoch 18/100\n",
      "48/48 [==============================] - 6s 117ms/step - loss: 0.3312 - acc: 0.8919 - val_loss: 0.1699 - val_acc: 0.9453\n",
      "Epoch 19/100\n",
      "48/48 [==============================] - 6s 129ms/step - loss: 0.3062 - acc: 0.9062 - val_loss: 0.1469 - val_acc: 0.9635\n",
      "Epoch 20/100\n",
      "48/48 [==============================] - 6s 119ms/step - loss: 0.3168 - acc: 0.9023 - val_loss: 0.2504 - val_acc: 0.9349\n",
      "Epoch 21/100\n",
      "48/48 [==============================] - 6s 125ms/step - loss: 0.2528 - acc: 0.9154 - val_loss: 0.2236 - val_acc: 0.9297\n",
      "Epoch 22/100\n",
      "48/48 [==============================] - 6s 118ms/step - loss: 0.2731 - acc: 0.9076 - val_loss: 0.1762 - val_acc: 0.9435\n",
      "Epoch 23/100\n",
      "48/48 [==============================] - 6s 118ms/step - loss: 0.2870 - acc: 0.9082 - val_loss: 0.1298 - val_acc: 0.9557\n",
      "Epoch 24/100\n",
      "48/48 [==============================] - 6s 123ms/step - loss: 0.2960 - acc: 0.9030 - val_loss: 0.2167 - val_acc: 0.9401\n",
      "Epoch 25/100\n",
      "48/48 [==============================] - 6s 117ms/step - loss: 0.2760 - acc: 0.9134 - val_loss: 0.1019 - val_acc: 0.9766\n",
      "Epoch 26/100\n",
      "48/48 [==============================] - 6s 117ms/step - loss: 0.2772 - acc: 0.8958 - val_loss: 0.2076 - val_acc: 0.9531\n",
      "Epoch 27/100\n",
      "48/48 [==============================] - 6s 117ms/step - loss: 0.3001 - acc: 0.9076 - val_loss: 0.1593 - val_acc: 0.9583\n",
      "Epoch 28/100\n",
      "48/48 [==============================] - 6s 120ms/step - loss: 0.2421 - acc: 0.9271 - val_loss: 0.1916 - val_acc: 0.9427\n",
      "Epoch 29/100\n",
      "48/48 [==============================] - 6s 115ms/step - loss: 0.2257 - acc: 0.9232 - val_loss: 0.2034 - val_acc: 0.9401\n",
      "Epoch 30/100\n",
      "48/48 [==============================] - 6s 123ms/step - loss: 0.2344 - acc: 0.9251 - val_loss: 0.1757 - val_acc: 0.9583\n",
      "Epoch 31/100\n",
      "48/48 [==============================] - 6s 120ms/step - loss: 0.2392 - acc: 0.9186 - val_loss: 0.2167 - val_acc: 0.9323\n",
      "Epoch 32/100\n",
      "48/48 [==============================] - 6s 117ms/step - loss: 0.2690 - acc: 0.9082 - val_loss: 0.2019 - val_acc: 0.9427\n",
      "Epoch 33/100\n",
      "48/48 [==============================] - 6s 123ms/step - loss: 0.2023 - acc: 0.9368 - val_loss: 0.0998 - val_acc: 0.9731\n",
      "Epoch 34/100\n",
      "48/48 [==============================] - 6s 119ms/step - loss: 0.2139 - acc: 0.9329 - val_loss: 0.1174 - val_acc: 0.9714\n",
      "Epoch 35/100\n",
      "48/48 [==============================] - 6s 123ms/step - loss: 0.2637 - acc: 0.9206 - val_loss: 0.2312 - val_acc: 0.9401\n",
      "Epoch 36/100\n",
      "48/48 [==============================] - 6s 115ms/step - loss: 0.2450 - acc: 0.9271 - val_loss: 0.1572 - val_acc: 0.9688\n",
      "Epoch 37/100\n",
      "48/48 [==============================] - 6s 120ms/step - loss: 0.2284 - acc: 0.9206 - val_loss: 0.1662 - val_acc: 0.9609\n",
      "Epoch 38/100\n",
      "48/48 [==============================] - 6s 115ms/step - loss: 0.2125 - acc: 0.9297 - val_loss: 0.1451 - val_acc: 0.9453\n",
      "Epoch 39/100\n",
      "48/48 [==============================] - 6s 123ms/step - loss: 0.1903 - acc: 0.9349 - val_loss: 0.2343 - val_acc: 0.9401\n",
      "Epoch 40/100\n",
      "48/48 [==============================] - 6s 117ms/step - loss: 0.2262 - acc: 0.9290 - val_loss: 0.2191 - val_acc: 0.9635\n",
      "Epoch 41/100\n",
      "48/48 [==============================] - 6s 120ms/step - loss: 0.1972 - acc: 0.9375 - val_loss: 0.1420 - val_acc: 0.9531\n",
      "Epoch 42/100\n",
      "48/48 [==============================] - 6s 117ms/step - loss: 0.1997 - acc: 0.9388 - val_loss: 0.1064 - val_acc: 0.9583\n",
      "Epoch 43/100\n",
      "48/48 [==============================] - 6s 116ms/step - loss: 0.1923 - acc: 0.9421 - val_loss: 0.1628 - val_acc: 0.9557\n",
      "Epoch 44/100\n",
      "48/48 [==============================] - 6s 123ms/step - loss: 0.1806 - acc: 0.9408 - val_loss: 0.1273 - val_acc: 0.9624\n",
      "Epoch 45/100\n",
      "48/48 [==============================] - 5s 114ms/step - loss: 0.1925 - acc: 0.9362 - val_loss: 0.0984 - val_acc: 0.9635\n",
      "Epoch 46/100\n",
      "48/48 [==============================] - 6s 120ms/step - loss: 0.1989 - acc: 0.9368 - val_loss: 0.1079 - val_acc: 0.9766\n",
      "Epoch 47/100\n",
      "48/48 [==============================] - 6s 118ms/step - loss: 0.1797 - acc: 0.9479 - val_loss: 0.1631 - val_acc: 0.9583\n",
      "Epoch 48/100\n",
      "48/48 [==============================] - 6s 119ms/step - loss: 0.1872 - acc: 0.9421 - val_loss: 0.1002 - val_acc: 0.9688\n",
      "Epoch 49/100\n",
      "48/48 [==============================] - 6s 124ms/step - loss: 0.2113 - acc: 0.9342 - val_loss: 0.1988 - val_acc: 0.9479\n",
      "Epoch 50/100\n",
      "48/48 [==============================] - 6s 117ms/step - loss: 0.1790 - acc: 0.9395 - val_loss: 0.2468 - val_acc: 0.9401\n",
      "Epoch 51/100\n",
      "48/48 [==============================] - 6s 116ms/step - loss: 0.2022 - acc: 0.9427 - val_loss: 0.1442 - val_acc: 0.9635\n",
      "Epoch 52/100\n",
      "48/48 [==============================] - 6s 115ms/step - loss: 0.1768 - acc: 0.9401 - val_loss: 0.1075 - val_acc: 0.9714\n",
      "Epoch 53/100\n",
      "48/48 [==============================] - 6s 120ms/step - loss: 0.1816 - acc: 0.9486 - val_loss: 0.1056 - val_acc: 0.9583\n",
      "Epoch 54/100\n",
      "48/48 [==============================] - 6s 120ms/step - loss: 0.1894 - acc: 0.9375 - val_loss: 0.1834 - val_acc: 0.9297\n",
      "Epoch 55/100\n",
      "48/48 [==============================] - 6s 122ms/step - loss: 0.1840 - acc: 0.9401 - val_loss: 0.1113 - val_acc: 0.9677\n",
      "Epoch 56/100\n",
      "48/48 [==============================] - 6s 117ms/step - loss: 0.1878 - acc: 0.9453 - val_loss: 0.1570 - val_acc: 0.9583\n",
      "Epoch 57/100\n",
      "48/48 [==============================] - 6s 116ms/step - loss: 0.1684 - acc: 0.9473 - val_loss: 0.1022 - val_acc: 0.9714\n",
      "Epoch 58/100\n",
      "48/48 [==============================] - 6s 119ms/step - loss: 0.1736 - acc: 0.9388 - val_loss: 0.1583 - val_acc: 0.9557\n",
      "Epoch 59/100\n",
      "48/48 [==============================] - 6s 118ms/step - loss: 0.1384 - acc: 0.9551 - val_loss: 0.1139 - val_acc: 0.9688\n",
      "Epoch 60/100\n",
      "48/48 [==============================] - 6s 128ms/step - loss: 0.1574 - acc: 0.9440 - val_loss: 0.1001 - val_acc: 0.9714\n",
      "Epoch 61/100\n",
      "48/48 [==============================] - 6s 117ms/step - loss: 0.1639 - acc: 0.9453 - val_loss: 0.1499 - val_acc: 0.9688\n",
      "Epoch 62/100\n"
     ]
    },
    {
     "name": "stdout",
     "output_type": "stream",
     "text": [
      "48/48 [==============================] - 6s 115ms/step - loss: 0.1707 - acc: 0.9473 - val_loss: 0.1066 - val_acc: 0.9714\n",
      "Epoch 63/100\n",
      "48/48 [==============================] - 6s 120ms/step - loss: 0.1764 - acc: 0.9401 - val_loss: 0.0955 - val_acc: 0.9792\n",
      "Epoch 64/100\n",
      "48/48 [==============================] - 6s 115ms/step - loss: 0.1637 - acc: 0.9473 - val_loss: 0.1260 - val_acc: 0.9688\n",
      "Epoch 65/100\n",
      "48/48 [==============================] - 6s 118ms/step - loss: 0.1385 - acc: 0.9531 - val_loss: 0.1642 - val_acc: 0.9462\n",
      "Epoch 66/100\n",
      "48/48 [==============================] - 6s 117ms/step - loss: 0.1697 - acc: 0.9538 - val_loss: 0.0881 - val_acc: 0.9740\n",
      "Epoch 67/100\n",
      "48/48 [==============================] - 6s 122ms/step - loss: 0.1839 - acc: 0.9434 - val_loss: 0.0844 - val_acc: 0.9766\n",
      "Epoch 68/100\n",
      "48/48 [==============================] - 6s 119ms/step - loss: 0.1527 - acc: 0.9570 - val_loss: 0.0819 - val_acc: 0.9818\n",
      "Epoch 69/100\n",
      "48/48 [==============================] - 6s 119ms/step - loss: 0.1574 - acc: 0.9460 - val_loss: 0.1308 - val_acc: 0.9661\n",
      "Epoch 70/100\n",
      "48/48 [==============================] - 6s 121ms/step - loss: 0.1668 - acc: 0.9531 - val_loss: 0.2053 - val_acc: 0.9375\n",
      "Epoch 71/100\n",
      "48/48 [==============================] - 6s 117ms/step - loss: 0.1376 - acc: 0.9544 - val_loss: 0.0485 - val_acc: 0.9922\n",
      "Epoch 72/100\n",
      "48/48 [==============================] - 6s 125ms/step - loss: 0.1537 - acc: 0.9499 - val_loss: 0.0827 - val_acc: 0.9844\n",
      "Epoch 73/100\n",
      "48/48 [==============================] - 6s 118ms/step - loss: 0.1737 - acc: 0.9447 - val_loss: 0.1153 - val_acc: 0.9661\n",
      "Epoch 74/100\n",
      "48/48 [==============================] - 6s 115ms/step - loss: 0.1508 - acc: 0.9505 - val_loss: 0.1099 - val_acc: 0.9688\n",
      "Epoch 75/100\n",
      "48/48 [==============================] - 6s 117ms/step - loss: 0.1460 - acc: 0.9551 - val_loss: 0.1023 - val_acc: 0.9661\n",
      "Epoch 76/100\n",
      "48/48 [==============================] - 6s 118ms/step - loss: 0.1453 - acc: 0.9525 - val_loss: 0.1898 - val_acc: 0.9624\n",
      "Epoch 77/100\n",
      "48/48 [==============================] - 6s 116ms/step - loss: 0.1462 - acc: 0.9525 - val_loss: 0.1385 - val_acc: 0.9531\n",
      "Epoch 78/100\n",
      "48/48 [==============================] - 5s 115ms/step - loss: 0.1613 - acc: 0.9486 - val_loss: 0.1013 - val_acc: 0.9661\n",
      "Epoch 79/100\n",
      "48/48 [==============================] - 6s 121ms/step - loss: 0.1527 - acc: 0.9538 - val_loss: 0.0912 - val_acc: 0.9714\n",
      "Epoch 80/100\n",
      "48/48 [==============================] - 6s 115ms/step - loss: 0.1415 - acc: 0.9544 - val_loss: 0.0941 - val_acc: 0.9714\n",
      "Epoch 81/100\n",
      "48/48 [==============================] - 6s 115ms/step - loss: 0.1500 - acc: 0.9551 - val_loss: 0.1214 - val_acc: 0.9688\n",
      "Epoch 82/100\n",
      "48/48 [==============================] - 5s 113ms/step - loss: 0.1407 - acc: 0.9512 - val_loss: 0.1069 - val_acc: 0.9766\n",
      "Epoch 83/100\n",
      "48/48 [==============================] - 6s 119ms/step - loss: 0.1331 - acc: 0.9583 - val_loss: 0.1043 - val_acc: 0.9714\n",
      "Epoch 84/100\n",
      "48/48 [==============================] - 5s 113ms/step - loss: 0.1333 - acc: 0.9564 - val_loss: 0.1032 - val_acc: 0.9740\n",
      "Epoch 85/100\n",
      "48/48 [==============================] - 6s 115ms/step - loss: 0.1426 - acc: 0.9590 - val_loss: 0.1611 - val_acc: 0.9635\n",
      "Epoch 86/100\n",
      "48/48 [==============================] - 6s 118ms/step - loss: 0.1689 - acc: 0.9447 - val_loss: 0.0980 - val_acc: 0.9792\n",
      "Epoch 87/100\n",
      "48/48 [==============================] - 6s 118ms/step - loss: 0.1510 - acc: 0.9564 - val_loss: 0.1618 - val_acc: 0.9435\n",
      "Epoch 88/100\n",
      "48/48 [==============================] - 6s 117ms/step - loss: 0.1460 - acc: 0.9531 - val_loss: 0.1022 - val_acc: 0.9766\n",
      "Epoch 89/100\n",
      "48/48 [==============================] - 6s 116ms/step - loss: 0.1337 - acc: 0.9551 - val_loss: 0.1028 - val_acc: 0.9635\n",
      "Epoch 90/100\n",
      "48/48 [==============================] - 6s 123ms/step - loss: 0.1341 - acc: 0.9616 - val_loss: 0.1476 - val_acc: 0.9583\n",
      "Epoch 91/100\n",
      "48/48 [==============================] - 6s 116ms/step - loss: 0.1554 - acc: 0.9512 - val_loss: 0.1214 - val_acc: 0.9661\n",
      "Epoch 92/100\n",
      "48/48 [==============================] - 6s 117ms/step - loss: 0.1226 - acc: 0.9616 - val_loss: 0.0969 - val_acc: 0.9688\n",
      "Epoch 93/100\n",
      "48/48 [==============================] - 6s 125ms/step - loss: 0.1285 - acc: 0.9570 - val_loss: 0.1233 - val_acc: 0.9661\n",
      "Epoch 94/100\n",
      "48/48 [==============================] - 6s 117ms/step - loss: 0.1230 - acc: 0.9642 - val_loss: 0.0561 - val_acc: 0.9870\n",
      "Epoch 95/100\n",
      "48/48 [==============================] - 6s 115ms/step - loss: 0.1416 - acc: 0.9551 - val_loss: 0.1006 - val_acc: 0.9766\n",
      "Epoch 96/100\n",
      "48/48 [==============================] - 6s 116ms/step - loss: 0.1456 - acc: 0.9518 - val_loss: 0.1631 - val_acc: 0.9661\n",
      "Epoch 97/100\n",
      "48/48 [==============================] - 6s 122ms/step - loss: 0.1543 - acc: 0.9518 - val_loss: 0.1730 - val_acc: 0.9557\n",
      "Epoch 98/100\n",
      "48/48 [==============================] - 6s 118ms/step - loss: 0.1359 - acc: 0.9551 - val_loss: 0.1141 - val_acc: 0.9785\n",
      "Epoch 99/100\n",
      "48/48 [==============================] - 6s 117ms/step - loss: 0.1190 - acc: 0.9590 - val_loss: 0.0743 - val_acc: 0.9766\n",
      "Epoch 100/100\n",
      "48/48 [==============================] - 6s 123ms/step - loss: 0.1315 - acc: 0.9570 - val_loss: 0.1275 - val_acc: 0.9635\n"
     ]
    }
   ],
   "source": [
    "history = model.fit_generator(\n",
    "    train_generator,\n",
    "    steps_per_epoch=nb_train_samples // batch_size,\n",
    "    epochs=epochs,\n",
    "    validation_data=validation_generator,\n",
    "    validation_steps=nb_validation_samples // batch_size,\n",
    "    #callbacks=[tb],\n",
    ")\n"
   ]
  },
  {
   "cell_type": "code",
   "execution_count": 12,
   "metadata": {},
   "outputs": [
    {
     "data": {
      "image/png": "[encoded data removed]",
      "text/plain": [
       "<matplotlib.figure.Figure at 0x1828673ad0>"
      ]
     },
     "metadata": {},
     "output_type": "display_data"
    },
    {
     "data": {
      "image/png": "[encoded data removed]",
      "text/plain": [
       "<matplotlib.figure.Figure at 0x1828298d10>"
      ]
     },
     "metadata": {},
     "output_type": "display_data"
    }
   ],
   "source": [
    "import matplotlib.pyplot as plt\n",
    "\n",
    "# accuracy\n",
    "plt.plot(history.history['acc'])\n",
    "plt.plot(history.history['val_acc'])\n",
    "plt.title('conv1d model accuracy - short data')\n",
    "plt.ylabel('accuracy')\n",
    "plt.xlabel('epoch')\n",
    "plt.legend(['train', 'validation'], loc='upper left')\n",
    "plt.show()\n",
    "\n",
    "#loss\n",
    "plt.plot(history.history['loss'])\n",
    "plt.plot(history.history['val_loss'])\n",
    "plt.title('conv1d model loss - short data')\n",
    "plt.ylabel('loss')\n",
    "plt.xlabel('epoch')\n",
    "plt.legend(['train', 'validation'], loc='upper left')\n",
    "plt.show()"
   ]
  },
  {
   "cell_type": "code",
   "execution_count": 13,
   "metadata": {
    "collapsed": true
   },
   "outputs": [],
   "source": [
    "#saving model\n",
    "#model.save_weights('bn_digit.h5')"
   ]
  }
 ],
 "metadata": {
  "kernelspec": {
   "display_name": "Python 2",
   "language": "python",
   "name": "python2"
  },
  "language_info": {
   "codemirror_mode": {
    "name": "ipython",
    "version": 2
   },
   "file_extension": ".py",
   "mimetype": "text/x-python",
   "name": "python",
   "nbconvert_exporter": "python",
   "pygments_lexer": "ipython2",
   "version": "2.7.13"
  }
 },
 "nbformat": 4,
 "nbformat_minor": 2
}
